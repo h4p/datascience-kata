{
 "metadata": {
  "language_info": {
   "codemirror_mode": {
    "name": "ipython",
    "version": 3
   },
   "file_extension": ".py",
   "mimetype": "text/x-python",
   "name": "python",
   "nbconvert_exporter": "python",
   "pygments_lexer": "ipython3",
   "version": "3.8.1-final"
  },
  "orig_nbformat": 2,
  "kernelspec": {
   "name": "python3",
   "display_name": "Python 3"
  }
 },
 "nbformat": 4,
 "nbformat_minor": 2,
 "cells": [
  {
   "cell_type": "code",
   "execution_count": 63,
   "metadata": {},
   "outputs": [],
   "source": [
    "import pandas as pd\n",
    "import altair as alt"
   ]
  },
  {
   "source": [
    "# The Dataset"
   ],
   "cell_type": "markdown",
   "metadata": {}
  },
  {
   "cell_type": "code",
   "execution_count": 64,
   "metadata": {},
   "outputs": [],
   "source": [
    "df = pd.read_csv(\"guitarDB.csv\", thousands=',')\n"
   ]
  },
  {
   "source": [
    "## Convert 'Song Hits' column to numeric values"
   ],
   "cell_type": "markdown",
   "metadata": {}
  },
  {
   "cell_type": "code",
   "execution_count": 65,
   "metadata": {},
   "outputs": [],
   "source": [
    "df['Song Hits'] = pd.to_numeric(df['Song Hits'])"
   ]
  },
  {
   "source": [
    "# Top 20 Artist"
   ],
   "cell_type": "markdown",
   "metadata": {}
  },
  {
   "cell_type": "code",
   "execution_count": 66,
   "metadata": {},
   "outputs": [],
   "source": [
    "data = df.nlargest(20, 'Song Rating')"
   ]
  },
  {
   "cell_type": "code",
   "execution_count": 67,
   "metadata": {},
   "outputs": [
    {
     "output_type": "execute_result",
     "data": {
      "text/html": "\n<div id=\"altair-viz-2d8e64e8183248e4b017502676d05e84\"></div>\n<script type=\"text/javascript\">\n  (function(spec, embedOpt){\n    let outputDiv = document.currentScript.previousElementSibling;\n    if (outputDiv.id !== \"altair-viz-2d8e64e8183248e4b017502676d05e84\") {\n      outputDiv = document.getElementById(\"altair-viz-2d8e64e8183248e4b017502676d05e84\");\n    }\n    const paths = {\n      \"vega\": \"https://cdn.jsdelivr.net/npm//vega@5?noext\",\n      \"vega-lib\": \"https://cdn.jsdelivr.net/npm//vega-lib?noext\",\n      \"vega-lite\": \"https://cdn.jsdelivr.net/npm//vega-lite@4.8.1?noext\",\n      \"vega-embed\": \"https://cdn.jsdelivr.net/npm//vega-embed@6?noext\",\n    };\n\n    function loadScript(lib) {\n      return new Promise(function(resolve, reject) {\n        var s = document.createElement('script');\n        s.src = paths[lib];\n        s.async = true;\n        s.onload = () => resolve(paths[lib]);\n        s.onerror = () => reject(`Error loading script: ${paths[lib]}`);\n        document.getElementsByTagName(\"head\")[0].appendChild(s);\n      });\n    }\n\n    function showError(err) {\n      outputDiv.innerHTML = `<div class=\"error\" style=\"color:red;\">${err}</div>`;\n      throw err;\n    }\n\n    function displayChart(vegaEmbed) {\n      vegaEmbed(outputDiv, spec, embedOpt)\n        .catch(err => showError(`Javascript Error: ${err.message}<br>This usually means there's a typo in your chart specification. See the javascript console for the full traceback.`));\n    }\n\n    if(typeof define === \"function\" && define.amd) {\n      requirejs.config({paths});\n      require([\"vega-embed\"], displayChart, err => showError(`Error loading script: ${err.message}`));\n    } else if (typeof vegaEmbed === \"function\") {\n      displayChart(vegaEmbed);\n    } else {\n      loadScript(\"vega\")\n        .then(() => loadScript(\"vega-lite\"))\n        .then(() => loadScript(\"vega-embed\"))\n        .catch(showError)\n        .then(() => displayChart(vegaEmbed));\n    }\n  })({\"config\": {\"view\": {\"continuousWidth\": 400, \"continuousHeight\": 300}}, \"data\": {\"name\": \"data-b1d11950bd75f56dc81adee45e118309\"}, \"mark\": \"bar\", \"encoding\": {\"x\": {\"type\": \"nominal\", \"field\": \"Artist\"}, \"y\": {\"type\": \"quantitative\", \"field\": \"Song Rating\"}}, \"$schema\": \"https://vega.github.io/schema/vega-lite/v4.8.1.json\", \"datasets\": {\"data-b1d11950bd75f56dc81adee45e118309\": [{\"Artist\": \"Jeff Buckley\", \"Song Name\": \"Hallelujah \", \"Song Rating\": 40045, \"Song Hits\": 31174526, \"Page Type\": \"Chords\", \"Difficulty\": \"novice\", \"Key\": \" Db\", \"Capo\": \" 1st fret\", \"Tuning\": \" E A D G B E\"}, {\"Artist\": \"Ed Sheeran\", \"Song Name\": \"Perfect\", \"Song Rating\": 31694, \"Song Hits\": 25794778, \"Page Type\": \"Chords\", \"Difficulty\": \"novice\", \"Key\": \" Ab\", \"Capo\": \" 1st fret\", \"Tuning\": \" E A D G B E\"}, {\"Artist\": \"John Legend\", \"Song Name\": \"All Of Me\", \"Song Rating\": 20169, \"Song Hits\": 25653362, \"Page Type\": \"Chords\", \"Difficulty\": \"novice\", \"Key\": \" Fm\", \"Capo\": \" 1st fret\", \"Tuning\": \" E A D G B E\"}, {\"Artist\": \"Elvis Presley\", \"Song Name\": \"Cant Help Falling In Love\", \"Song Rating\": 19747, \"Song Hits\": 19857493, \"Page Type\": \"Chords\", \"Difficulty\": \"intermediate\", \"Key\": \" C\", \"Capo\": \" 2nd fret\", \"Tuning\": \" E A D G B E\"}, {\"Artist\": \"Vance Joy\", \"Song Name\": \"Riptide \", \"Song Rating\": 17693, \"Song Hits\": 14057389, \"Page Type\": \"Chords\", \"Difficulty\": \"novice\", \"Key\": \" Bbm\", \"Capo\": \" 1st fret\", \"Tuning\": \" E A D G B E\"}, {\"Artist\": \"Passenger\", \"Song Name\": \"Let Her Go\", \"Song Rating\": 17267, \"Song Hits\": 24556593, \"Page Type\": \"Chords\", \"Difficulty\": \"novice\", \"Key\": \" Em\", \"Capo\": \" 7th fret\", \"Tuning\": \" E A D G B E\"}, {\"Artist\": \"Radiohead\", \"Song Name\": \"Creep\", \"Song Rating\": 16789, \"Song Hits\": 13684244, \"Page Type\": \"Chords\", \"Difficulty\": \"novice\", \"Key\": \" G\", \"Capo\": \"No Capo\", \"Tuning\": \" E A D G B E\"}, {\"Artist\": \"Imagine Dragons\", \"Song Name\": \"Radioactive\", \"Song Rating\": 16411, \"Song Hits\": 9646730, \"Page Type\": \"Chords\", \"Difficulty\": \"novice\", \"Key\": \" Bm\", \"Capo\": \" 2nd fret\", \"Tuning\": \" E A D G B E\"}, {\"Artist\": \"Misc Soundtrack\", \"Song Name\": \"A Star Is Born - Shallow\", \"Song Rating\": 16186, \"Song Hits\": 7012149, \"Page Type\": \"Chords\", \"Difficulty\": \"novice\", \"Key\": \" E\", \"Capo\": \"No Capo\", \"Tuning\": \" E A D G B E\"}, {\"Artist\": \"Eagles\", \"Song Name\": \"Hotel California\", \"Song Rating\": 15298, \"Song Hits\": 7828362, \"Page Type\": \"Chords\", \"Difficulty\": \"novice\", \"Key\": \" Bm\", \"Capo\": \" 2nd fret\", \"Tuning\": \" E A D G B E\"}, {\"Artist\": \"Pink Floyd\", \"Song Name\": \"Wish You Were Here\", \"Song Rating\": 14884, \"Song Hits\": 13569404, \"Page Type\": \"Chords\", \"Difficulty\": \"novice\", \"Key\": \" Em\", \"Capo\": \"No Capo\", \"Tuning\": \" E A D G B E\"}, {\"Artist\": \"Bruno Mars\", \"Song Name\": \"When I Was Your Man\", \"Song Rating\": 14428, \"Song Hits\": 14687286, \"Page Type\": \"Chords\", \"Difficulty\": \"novice\", \"Key\": \" C\", \"Capo\": \"No Capo\", \"Tuning\": \" E A D G B E\"}, {\"Artist\": \"Ed Sheeran\", \"Song Name\": \"Photograph\", \"Song Rating\": 14028, \"Song Hits\": 13952081, \"Page Type\": \"Chords\", \"Difficulty\": \"novice\", \"Key\": \" E\", \"Capo\": \" 2nd fret\", \"Tuning\": \" E A D G B E\"}, {\"Artist\": \"Lewis Capaldi\", \"Song Name\": \"Someone You Loved\", \"Song Rating\": 13055, \"Song Hits\": 6344820, \"Page Type\": \"Chords\", \"Difficulty\": \"novice\", \"Key\": \" C#\", \"Capo\": \" 1st fret\", \"Tuning\": \" E A D G B E\"}, {\"Artist\": \"Dolly Parton\", \"Song Name\": \"Jolene \", \"Song Rating\": 12281, \"Song Hits\": 5091242, \"Page Type\": \"Chords\", \"Difficulty\": \"novice\", \"Key\": \" C#m\", \"Capo\": \" 4th fret\", \"Tuning\": \" E A D G B E\"}, {\"Artist\": \"Jason Mraz\", \"Song Name\": \"Im Yours \", \"Song Rating\": 12247, \"Song Hits\": 20326678, \"Page Type\": \"Chords\", \"Difficulty\": \"novice\", \"Key\": \" B\", \"Capo\": \" 4th fret\", \"Tuning\": \" E A D G B E\"}, {\"Artist\": \"Ed Sheeran\", \"Song Name\": \"Thinking Out Loud\", \"Song Rating\": 12130, \"Song Hits\": 17939245, \"Page Type\": \"Chords\", \"Difficulty\": \"novice\", \"Key\": \" D\", \"Capo\": \" 2nd fret\", \"Tuning\": \" E A D G B E\"}, {\"Artist\": \"Oasis\", \"Song Name\": \"Dont Look Back In Anger\", \"Song Rating\": 11981, \"Song Hits\": 12942507, \"Page Type\": \"Chords\", \"Difficulty\": \"novice\", \"Key\": \" C\", \"Capo\": \"No Capo\", \"Tuning\": \" E A D G B E\"}, {\"Artist\": \"Led Zeppelin\", \"Song Name\": \"Stairway To Heaven\", \"Song Rating\": 11839, \"Song Hits\": 20762763, \"Page Type\": \"Tab\", \"Difficulty\": \"intermediate\", \"Key\": \" Am\", \"Capo\": \"No Capo\", \"Tuning\": \" E A D G B E\"}, {\"Artist\": \"Creedence Clearwater Revival\", \"Song Name\": \"Have You Ever Seen The Rain\", \"Song Rating\": 11310, \"Song Hits\": 6942944, \"Page Type\": \"Chords\", \"Difficulty\": \"novice\", \"Key\": \" C\", \"Capo\": \"No Capo\", \"Tuning\": \" E A D G B E\"}]}}, {\"mode\": \"vega-lite\"});\n</script>",
      "text/plain": [
       "alt.Chart(...)"
      ]
     },
     "metadata": {},
     "execution_count": 67
    }
   ],
   "source": [
    "alt.Chart(data).mark_bar().encode(\n",
    "    x=alt.X('Artist', type='nominal'),\n",
    "    y=alt.Y('Song Rating', type='quantitative')\n",
    ")"
   ]
  },
  {
   "source": [
    "# Get Difficulty values"
   ],
   "cell_type": "markdown",
   "metadata": {}
  },
  {
   "cell_type": "code",
   "execution_count": 68,
   "metadata": {},
   "outputs": [
    {
     "output_type": "execute_result",
     "data": {
      "text/plain": [
       "array(['novice', 'intermediate', 'advanced', 'intermediat', 'novic',\n",
       "       'advance'], dtype=object)"
      ]
     },
     "metadata": {},
     "execution_count": 68
    }
   ],
   "source": [
    "df['Difficulty'].unique()"
   ]
  },
  {
   "source": [
    "## Correct spelling errors"
   ],
   "cell_type": "markdown",
   "metadata": {}
  },
  {
   "cell_type": "code",
   "execution_count": 69,
   "metadata": {},
   "outputs": [],
   "source": [
    "df['Difficulty'] = df['Difficulty'].replace(['intermediat', 'novic', 'advance'], ['intermediate', 'novice', 'advanced'])"
   ]
  },
  {
   "cell_type": "code",
   "execution_count": 70,
   "metadata": {},
   "outputs": [
    {
     "output_type": "execute_result",
     "data": {
      "text/plain": [
       "array(['novice', 'intermediate', 'advanced'], dtype=object)"
      ]
     },
     "metadata": {},
     "execution_count": 70
    }
   ],
   "source": [
    "df['Difficulty'].unique()"
   ]
  },
  {
   "source": [
    "# Beloved Artist by advanced players"
   ],
   "cell_type": "markdown",
   "metadata": {}
  },
  {
   "cell_type": "code",
   "execution_count": 71,
   "metadata": {},
   "outputs": [],
   "source": [
    "advanced_tabs = df.loc[df['Difficulty']=='advanced']"
   ]
  },
  {
   "cell_type": "code",
   "execution_count": 75,
   "metadata": {},
   "outputs": [
    {
     "output_type": "execute_result",
     "data": {
      "text/plain": [
       "           Artist                  Song Name  Song Rating  Song Hits  \\\n",
       "36   Eric Clapton            Tears In Heaven         4188    9054292   \n",
       "134    Jason Mraz                   Im Yours          211    4690834   \n",
       "159     Metallica      Nothing Else Matters          1864    4194130   \n",
       "163         Queen          Bohemian Rhapsody         1677    4165302   \n",
       "587          Muse                   Hysteria          685    1823282   \n",
       "700     Metallica  The Day That Never Comes           547    1613762   \n",
       "\n",
       "    Page Type Difficulty  Key     Capo        Tuning  \n",
       "36        Tab   advanced    A  No Capo   E A D G B E  \n",
       "134       Tab   advanced   Bm  No Capo   E A D G B E  \n",
       "159       Tab   advanced   Db  No Capo    E A D G B   \n",
       "163    Chords   advanced   Bb  No Capo   E A D G B E  \n",
       "587      Bass   advanced   Am  No Capo       E A D G  \n",
       "700       Tab   advanced   Db  No Capo   E A D G B E  "
      ],
      "text/html": "<div>\n<style scoped>\n    .dataframe tbody tr th:only-of-type {\n        vertical-align: middle;\n    }\n\n    .dataframe tbody tr th {\n        vertical-align: top;\n    }\n\n    .dataframe thead th {\n        text-align: right;\n    }\n</style>\n<table border=\"1\" class=\"dataframe\">\n  <thead>\n    <tr style=\"text-align: right;\">\n      <th></th>\n      <th>Artist</th>\n      <th>Song Name</th>\n      <th>Song Rating</th>\n      <th>Song Hits</th>\n      <th>Page Type</th>\n      <th>Difficulty</th>\n      <th>Key</th>\n      <th>Capo</th>\n      <th>Tuning</th>\n    </tr>\n  </thead>\n  <tbody>\n    <tr>\n      <th>36</th>\n      <td>Eric Clapton</td>\n      <td>Tears In Heaven</td>\n      <td>4188</td>\n      <td>9054292</td>\n      <td>Tab</td>\n      <td>advanced</td>\n      <td>A</td>\n      <td>No Capo</td>\n      <td>E A D G B E</td>\n    </tr>\n    <tr>\n      <th>134</th>\n      <td>Jason Mraz</td>\n      <td>Im Yours</td>\n      <td>211</td>\n      <td>4690834</td>\n      <td>Tab</td>\n      <td>advanced</td>\n      <td>Bm</td>\n      <td>No Capo</td>\n      <td>E A D G B E</td>\n    </tr>\n    <tr>\n      <th>159</th>\n      <td>Metallica</td>\n      <td>Nothing Else Matters</td>\n      <td>1864</td>\n      <td>4194130</td>\n      <td>Tab</td>\n      <td>advanced</td>\n      <td>Db</td>\n      <td>No Capo</td>\n      <td>E A D G B</td>\n    </tr>\n    <tr>\n      <th>163</th>\n      <td>Queen</td>\n      <td>Bohemian Rhapsody</td>\n      <td>1677</td>\n      <td>4165302</td>\n      <td>Chords</td>\n      <td>advanced</td>\n      <td>Bb</td>\n      <td>No Capo</td>\n      <td>E A D G B E</td>\n    </tr>\n    <tr>\n      <th>587</th>\n      <td>Muse</td>\n      <td>Hysteria</td>\n      <td>685</td>\n      <td>1823282</td>\n      <td>Bass</td>\n      <td>advanced</td>\n      <td>Am</td>\n      <td>No Capo</td>\n      <td>E A D G</td>\n    </tr>\n    <tr>\n      <th>700</th>\n      <td>Metallica</td>\n      <td>The Day That Never Comes</td>\n      <td>547</td>\n      <td>1613762</td>\n      <td>Tab</td>\n      <td>advanced</td>\n      <td>Db</td>\n      <td>No Capo</td>\n      <td>E A D G B E</td>\n    </tr>\n  </tbody>\n</table>\n</div>"
     },
     "metadata": {},
     "execution_count": 75
    }
   ],
   "source": [
    "advanced_tabs"
   ]
  },
  {
   "cell_type": "code",
   "execution_count": 76,
   "metadata": {},
   "outputs": [],
   "source": [
    "data = advanced_tabs.nlargest(20, 'Song Rating')"
   ]
  },
  {
   "cell_type": "code",
   "execution_count": 79,
   "metadata": {},
   "outputs": [
    {
     "output_type": "execute_result",
     "data": {
      "text/html": "\n<div id=\"altair-viz-478f10513574470680750b65b1e55d7a\"></div>\n<script type=\"text/javascript\">\n  (function(spec, embedOpt){\n    let outputDiv = document.currentScript.previousElementSibling;\n    if (outputDiv.id !== \"altair-viz-478f10513574470680750b65b1e55d7a\") {\n      outputDiv = document.getElementById(\"altair-viz-478f10513574470680750b65b1e55d7a\");\n    }\n    const paths = {\n      \"vega\": \"https://cdn.jsdelivr.net/npm//vega@5?noext\",\n      \"vega-lib\": \"https://cdn.jsdelivr.net/npm//vega-lib?noext\",\n      \"vega-lite\": \"https://cdn.jsdelivr.net/npm//vega-lite@4.8.1?noext\",\n      \"vega-embed\": \"https://cdn.jsdelivr.net/npm//vega-embed@6?noext\",\n    };\n\n    function loadScript(lib) {\n      return new Promise(function(resolve, reject) {\n        var s = document.createElement('script');\n        s.src = paths[lib];\n        s.async = true;\n        s.onload = () => resolve(paths[lib]);\n        s.onerror = () => reject(`Error loading script: ${paths[lib]}`);\n        document.getElementsByTagName(\"head\")[0].appendChild(s);\n      });\n    }\n\n    function showError(err) {\n      outputDiv.innerHTML = `<div class=\"error\" style=\"color:red;\">${err}</div>`;\n      throw err;\n    }\n\n    function displayChart(vegaEmbed) {\n      vegaEmbed(outputDiv, spec, embedOpt)\n        .catch(err => showError(`Javascript Error: ${err.message}<br>This usually means there's a typo in your chart specification. See the javascript console for the full traceback.`));\n    }\n\n    if(typeof define === \"function\" && define.amd) {\n      requirejs.config({paths});\n      require([\"vega-embed\"], displayChart, err => showError(`Error loading script: ${err.message}`));\n    } else if (typeof vegaEmbed === \"function\") {\n      displayChart(vegaEmbed);\n    } else {\n      loadScript(\"vega\")\n        .then(() => loadScript(\"vega-lite\"))\n        .then(() => loadScript(\"vega-embed\"))\n        .catch(showError)\n        .then(() => displayChart(vegaEmbed));\n    }\n  })({\"config\": {\"view\": {\"continuousWidth\": 400, \"continuousHeight\": 300}}, \"data\": {\"name\": \"data-15d4ed4c182fcebfdf942b959a010094\"}, \"mark\": {\"type\": \"bar\", \"color\": \"darkred\"}, \"encoding\": {\"x\": {\"type\": \"nominal\", \"field\": \"Artist\"}, \"y\": {\"type\": \"quantitative\", \"field\": \"Song Rating\"}}, \"$schema\": \"https://vega.github.io/schema/vega-lite/v4.8.1.json\", \"datasets\": {\"data-15d4ed4c182fcebfdf942b959a010094\": [{\"Artist\": \"Eric Clapton\", \"Song Name\": \"Tears In Heaven\", \"Song Rating\": 4188, \"Song Hits\": 9054292, \"Page Type\": \"Tab\", \"Difficulty\": \"advanced\", \"Key\": \" A\", \"Capo\": \"No Capo\", \"Tuning\": \" E A D G B E\"}, {\"Artist\": \"Metallica\", \"Song Name\": \"Nothing Else Matters \", \"Song Rating\": 1864, \"Song Hits\": 4194130, \"Page Type\": \"Tab\", \"Difficulty\": \"advanced\", \"Key\": \"Db\", \"Capo\": \"No Capo\", \"Tuning\": \" E A D G B \"}, {\"Artist\": \"Queen\", \"Song Name\": \"Bohemian Rhapsody\", \"Song Rating\": 1677, \"Song Hits\": 4165302, \"Page Type\": \"Chords\", \"Difficulty\": \"advanced\", \"Key\": \" Bb\", \"Capo\": \"No Capo\", \"Tuning\": \" E A D G B E\"}, {\"Artist\": \"Muse\", \"Song Name\": \"Hysteria\", \"Song Rating\": 685, \"Song Hits\": 1823282, \"Page Type\": \"Bass\", \"Difficulty\": \"advanced\", \"Key\": \" Am\", \"Capo\": \"No Capo\", \"Tuning\": \" E A D G\"}, {\"Artist\": \"Metallica\", \"Song Name\": \"The Day That Never Comes \", \"Song Rating\": 547, \"Song Hits\": 1613762, \"Page Type\": \"Tab\", \"Difficulty\": \"advanced\", \"Key\": \"Db\", \"Capo\": \"No Capo\", \"Tuning\": \"E A D G B E\"}, {\"Artist\": \"Jason Mraz\", \"Song Name\": \"Im Yours\", \"Song Rating\": 211, \"Song Hits\": 4690834, \"Page Type\": \"Tab\", \"Difficulty\": \"advanced\", \"Key\": \" Bm\", \"Capo\": \"No Capo\", \"Tuning\": \" E A D G B E\"}]}}, {\"mode\": \"vega-lite\"});\n</script>",
      "text/plain": [
       "alt.Chart(...)"
      ]
     },
     "metadata": {},
     "execution_count": 79
    }
   ],
   "source": [
    "alt.Chart(data).mark_bar(color='darkred').encode(\n",
    "    x=alt.X('Artist', type='nominal'),\n",
    "    y=alt.Y('Song Rating', type='quantitative')\n",
    ")"
   ]
  },
  {
   "cell_type": "code",
   "execution_count": null,
   "metadata": {},
   "outputs": [],
   "source": []
  }
 ]
}