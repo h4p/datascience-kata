{
 "cells": [
  {
   "cell_type": "code",
   "execution_count": 1,
   "metadata": {},
   "outputs": [],
   "source": [
    "import pandas as pd\n",
    "import altair as alt"
   ]
  },
  {
   "cell_type": "markdown",
   "metadata": {},
   "source": [
    "# The Dataset"
   ]
  },
  {
   "cell_type": "code",
   "execution_count": 2,
   "metadata": {},
   "outputs": [],
   "source": [
    "df = pd.read_csv(\"guitarDB.csv\", thousands=',')\n"
   ]
  },
  {
   "cell_type": "markdown",
   "metadata": {},
   "source": [
    "## Convert 'Song Hits' column to numeric values"
   ]
  },
  {
   "cell_type": "code",
   "execution_count": 3,
   "metadata": {},
   "outputs": [],
   "source": [
    "df['Song Hits'] = pd.to_numeric(df['Song Hits'])"
   ]
  },
  {
   "cell_type": "markdown",
   "metadata": {},
   "source": [
    "# Top 20 Artist"
   ]
  },
  {
   "cell_type": "code",
   "execution_count": 4,
   "metadata": {},
   "outputs": [],
   "source": [
    "data = df.nlargest(20, 'Song Rating')"
   ]
  },
  {
   "cell_type": "code",
   "execution_count": 5,
   "metadata": {},
   "outputs": [
    {
     "data": {
      "text/html": [
       "\n",
       "<div id=\"altair-viz-0cbe6f3b01124d6bba22c27b681b67d0\"></div>\n",
       "<script type=\"text/javascript\">\n",
       "  (function(spec, embedOpt){\n",
       "    let outputDiv = document.currentScript.previousElementSibling;\n",
       "    if (outputDiv.id !== \"altair-viz-0cbe6f3b01124d6bba22c27b681b67d0\") {\n",
       "      outputDiv = document.getElementById(\"altair-viz-0cbe6f3b01124d6bba22c27b681b67d0\");\n",
       "    }\n",
       "    const paths = {\n",
       "      \"vega\": \"https://cdn.jsdelivr.net/npm//vega@5?noext\",\n",
       "      \"vega-lib\": \"https://cdn.jsdelivr.net/npm//vega-lib?noext\",\n",
       "      \"vega-lite\": \"https://cdn.jsdelivr.net/npm//vega-lite@4.8.1?noext\",\n",
       "      \"vega-embed\": \"https://cdn.jsdelivr.net/npm//vega-embed@6?noext\",\n",
       "    };\n",
       "\n",
       "    function loadScript(lib) {\n",
       "      return new Promise(function(resolve, reject) {\n",
       "        var s = document.createElement('script');\n",
       "        s.src = paths[lib];\n",
       "        s.async = true;\n",
       "        s.onload = () => resolve(paths[lib]);\n",
       "        s.onerror = () => reject(`Error loading script: ${paths[lib]}`);\n",
       "        document.getElementsByTagName(\"head\")[0].appendChild(s);\n",
       "      });\n",
       "    }\n",
       "\n",
       "    function showError(err) {\n",
       "      outputDiv.innerHTML = `<div class=\"error\" style=\"color:red;\">${err}</div>`;\n",
       "      throw err;\n",
       "    }\n",
       "\n",
       "    function displayChart(vegaEmbed) {\n",
       "      vegaEmbed(outputDiv, spec, embedOpt)\n",
       "        .catch(err => showError(`Javascript Error: ${err.message}<br>This usually means there's a typo in your chart specification. See the javascript console for the full traceback.`));\n",
       "    }\n",
       "\n",
       "    if(typeof define === \"function\" && define.amd) {\n",
       "      requirejs.config({paths});\n",
       "      require([\"vega-embed\"], displayChart, err => showError(`Error loading script: ${err.message}`));\n",
       "    } else if (typeof vegaEmbed === \"function\") {\n",
       "      displayChart(vegaEmbed);\n",
       "    } else {\n",
       "      loadScript(\"vega\")\n",
       "        .then(() => loadScript(\"vega-lite\"))\n",
       "        .then(() => loadScript(\"vega-embed\"))\n",
       "        .catch(showError)\n",
       "        .then(() => displayChart(vegaEmbed));\n",
       "    }\n",
       "  })({\"config\": {\"view\": {\"continuousWidth\": 400, \"continuousHeight\": 300}}, \"data\": {\"name\": \"data-b1d11950bd75f56dc81adee45e118309\"}, \"mark\": \"bar\", \"encoding\": {\"x\": {\"type\": \"nominal\", \"field\": \"Artist\"}, \"y\": {\"type\": \"quantitative\", \"field\": \"Song Rating\"}}, \"$schema\": \"https://vega.github.io/schema/vega-lite/v4.8.1.json\", \"datasets\": {\"data-b1d11950bd75f56dc81adee45e118309\": [{\"Artist\": \"Jeff Buckley\", \"Song Name\": \"Hallelujah \", \"Song Rating\": 40045, \"Song Hits\": 31174526, \"Page Type\": \"Chords\", \"Difficulty\": \"novice\", \"Key\": \" Db\", \"Capo\": \" 1st fret\", \"Tuning\": \" E A D G B E\"}, {\"Artist\": \"Ed Sheeran\", \"Song Name\": \"Perfect\", \"Song Rating\": 31694, \"Song Hits\": 25794778, \"Page Type\": \"Chords\", \"Difficulty\": \"novice\", \"Key\": \" Ab\", \"Capo\": \" 1st fret\", \"Tuning\": \" E A D G B E\"}, {\"Artist\": \"John Legend\", \"Song Name\": \"All Of Me\", \"Song Rating\": 20169, \"Song Hits\": 25653362, \"Page Type\": \"Chords\", \"Difficulty\": \"novice\", \"Key\": \" Fm\", \"Capo\": \" 1st fret\", \"Tuning\": \" E A D G B E\"}, {\"Artist\": \"Elvis Presley\", \"Song Name\": \"Cant Help Falling In Love\", \"Song Rating\": 19747, \"Song Hits\": 19857493, \"Page Type\": \"Chords\", \"Difficulty\": \"intermediate\", \"Key\": \" C\", \"Capo\": \" 2nd fret\", \"Tuning\": \" E A D G B E\"}, {\"Artist\": \"Vance Joy\", \"Song Name\": \"Riptide \", \"Song Rating\": 17693, \"Song Hits\": 14057389, \"Page Type\": \"Chords\", \"Difficulty\": \"novice\", \"Key\": \" Bbm\", \"Capo\": \" 1st fret\", \"Tuning\": \" E A D G B E\"}, {\"Artist\": \"Passenger\", \"Song Name\": \"Let Her Go\", \"Song Rating\": 17267, \"Song Hits\": 24556593, \"Page Type\": \"Chords\", \"Difficulty\": \"novice\", \"Key\": \" Em\", \"Capo\": \" 7th fret\", \"Tuning\": \" E A D G B E\"}, {\"Artist\": \"Radiohead\", \"Song Name\": \"Creep\", \"Song Rating\": 16789, \"Song Hits\": 13684244, \"Page Type\": \"Chords\", \"Difficulty\": \"novice\", \"Key\": \" G\", \"Capo\": \"No Capo\", \"Tuning\": \" E A D G B E\"}, {\"Artist\": \"Imagine Dragons\", \"Song Name\": \"Radioactive\", \"Song Rating\": 16411, \"Song Hits\": 9646730, \"Page Type\": \"Chords\", \"Difficulty\": \"novice\", \"Key\": \" Bm\", \"Capo\": \" 2nd fret\", \"Tuning\": \" E A D G B E\"}, {\"Artist\": \"Misc Soundtrack\", \"Song Name\": \"A Star Is Born - Shallow\", \"Song Rating\": 16186, \"Song Hits\": 7012149, \"Page Type\": \"Chords\", \"Difficulty\": \"novice\", \"Key\": \" E\", \"Capo\": \"No Capo\", \"Tuning\": \" E A D G B E\"}, {\"Artist\": \"Eagles\", \"Song Name\": \"Hotel California\", \"Song Rating\": 15298, \"Song Hits\": 7828362, \"Page Type\": \"Chords\", \"Difficulty\": \"novice\", \"Key\": \" Bm\", \"Capo\": \" 2nd fret\", \"Tuning\": \" E A D G B E\"}, {\"Artist\": \"Pink Floyd\", \"Song Name\": \"Wish You Were Here\", \"Song Rating\": 14884, \"Song Hits\": 13569404, \"Page Type\": \"Chords\", \"Difficulty\": \"novice\", \"Key\": \" Em\", \"Capo\": \"No Capo\", \"Tuning\": \" E A D G B E\"}, {\"Artist\": \"Bruno Mars\", \"Song Name\": \"When I Was Your Man\", \"Song Rating\": 14428, \"Song Hits\": 14687286, \"Page Type\": \"Chords\", \"Difficulty\": \"novice\", \"Key\": \" C\", \"Capo\": \"No Capo\", \"Tuning\": \" E A D G B E\"}, {\"Artist\": \"Ed Sheeran\", \"Song Name\": \"Photograph\", \"Song Rating\": 14028, \"Song Hits\": 13952081, \"Page Type\": \"Chords\", \"Difficulty\": \"novice\", \"Key\": \" E\", \"Capo\": \" 2nd fret\", \"Tuning\": \" E A D G B E\"}, {\"Artist\": \"Lewis Capaldi\", \"Song Name\": \"Someone You Loved\", \"Song Rating\": 13055, \"Song Hits\": 6344820, \"Page Type\": \"Chords\", \"Difficulty\": \"novice\", \"Key\": \" C#\", \"Capo\": \" 1st fret\", \"Tuning\": \" E A D G B E\"}, {\"Artist\": \"Dolly Parton\", \"Song Name\": \"Jolene \", \"Song Rating\": 12281, \"Song Hits\": 5091242, \"Page Type\": \"Chords\", \"Difficulty\": \"novice\", \"Key\": \" C#m\", \"Capo\": \" 4th fret\", \"Tuning\": \" E A D G B E\"}, {\"Artist\": \"Jason Mraz\", \"Song Name\": \"Im Yours \", \"Song Rating\": 12247, \"Song Hits\": 20326678, \"Page Type\": \"Chords\", \"Difficulty\": \"novice\", \"Key\": \" B\", \"Capo\": \" 4th fret\", \"Tuning\": \" E A D G B E\"}, {\"Artist\": \"Ed Sheeran\", \"Song Name\": \"Thinking Out Loud\", \"Song Rating\": 12130, \"Song Hits\": 17939245, \"Page Type\": \"Chords\", \"Difficulty\": \"novice\", \"Key\": \" D\", \"Capo\": \" 2nd fret\", \"Tuning\": \" E A D G B E\"}, {\"Artist\": \"Oasis\", \"Song Name\": \"Dont Look Back In Anger\", \"Song Rating\": 11981, \"Song Hits\": 12942507, \"Page Type\": \"Chords\", \"Difficulty\": \"novice\", \"Key\": \" C\", \"Capo\": \"No Capo\", \"Tuning\": \" E A D G B E\"}, {\"Artist\": \"Led Zeppelin\", \"Song Name\": \"Stairway To Heaven\", \"Song Rating\": 11839, \"Song Hits\": 20762763, \"Page Type\": \"Tab\", \"Difficulty\": \"intermediate\", \"Key\": \" Am\", \"Capo\": \"No Capo\", \"Tuning\": \" E A D G B E\"}, {\"Artist\": \"Creedence Clearwater Revival\", \"Song Name\": \"Have You Ever Seen The Rain\", \"Song Rating\": 11310, \"Song Hits\": 6942944, \"Page Type\": \"Chords\", \"Difficulty\": \"novice\", \"Key\": \" C\", \"Capo\": \"No Capo\", \"Tuning\": \" E A D G B E\"}]}}, {\"mode\": \"vega-lite\"});\n",
       "</script>"
      ],
      "text/plain": [
       "alt.Chart(...)"
      ]
     },
     "execution_count": 5,
     "metadata": {},
     "output_type": "execute_result"
    }
   ],
   "source": [
    "alt.Chart(data).mark_bar().encode(\n",
    "    x=alt.X('Artist', type='nominal'),\n",
    "    y=alt.Y('Song Rating', type='quantitative')\n",
    ")"
   ]
  },
  {
   "cell_type": "markdown",
   "metadata": {},
   "source": [
    "# Get Difficulty values"
   ]
  },
  {
   "cell_type": "code",
   "execution_count": 6,
   "metadata": {},
   "outputs": [
    {
     "data": {
      "text/plain": [
       "array(['novice', 'intermediate', 'advanced', 'intermediat', 'novic',\n",
       "       'advance'], dtype=object)"
      ]
     },
     "execution_count": 6,
     "metadata": {},
     "output_type": "execute_result"
    }
   ],
   "source": [
    "df['Difficulty'].unique()"
   ]
  },
  {
   "cell_type": "markdown",
   "metadata": {},
   "source": [
    "## Correct spelling errors"
   ]
  },
  {
   "cell_type": "code",
   "execution_count": 7,
   "metadata": {},
   "outputs": [],
   "source": [
    "df['Difficulty'] = df['Difficulty'].replace(['intermediat', 'novic', 'advance'], ['intermediate', 'novice', 'advanced'])"
   ]
  },
  {
   "cell_type": "code",
   "execution_count": 8,
   "metadata": {},
   "outputs": [
    {
     "data": {
      "text/plain": [
       "array(['novice', 'intermediate', 'advanced'], dtype=object)"
      ]
     },
     "execution_count": 8,
     "metadata": {},
     "output_type": "execute_result"
    }
   ],
   "source": [
    "df['Difficulty'].unique()"
   ]
  },
  {
   "cell_type": "markdown",
   "metadata": {},
   "source": [
    "# Beloved Artist by advanced players"
   ]
  },
  {
   "cell_type": "code",
   "execution_count": 9,
   "metadata": {},
   "outputs": [],
   "source": [
    "advanced_tabs = df.loc[df['Difficulty']=='advanced']"
   ]
  },
  {
   "cell_type": "code",
   "execution_count": 10,
   "metadata": {},
   "outputs": [
    {
     "data": {
      "text/html": [
       "<div>\n",
       "<style scoped>\n",
       "    .dataframe tbody tr th:only-of-type {\n",
       "        vertical-align: middle;\n",
       "    }\n",
       "\n",
       "    .dataframe tbody tr th {\n",
       "        vertical-align: top;\n",
       "    }\n",
       "\n",
       "    .dataframe thead th {\n",
       "        text-align: right;\n",
       "    }\n",
       "</style>\n",
       "<table border=\"1\" class=\"dataframe\">\n",
       "  <thead>\n",
       "    <tr style=\"text-align: right;\">\n",
       "      <th></th>\n",
       "      <th>Artist</th>\n",
       "      <th>Song Name</th>\n",
       "      <th>Song Rating</th>\n",
       "      <th>Song Hits</th>\n",
       "      <th>Page Type</th>\n",
       "      <th>Difficulty</th>\n",
       "      <th>Key</th>\n",
       "      <th>Capo</th>\n",
       "      <th>Tuning</th>\n",
       "    </tr>\n",
       "  </thead>\n",
       "  <tbody>\n",
       "    <tr>\n",
       "      <th>36</th>\n",
       "      <td>Eric Clapton</td>\n",
       "      <td>Tears In Heaven</td>\n",
       "      <td>4188</td>\n",
       "      <td>9054292</td>\n",
       "      <td>Tab</td>\n",
       "      <td>advanced</td>\n",
       "      <td>A</td>\n",
       "      <td>No Capo</td>\n",
       "      <td>E A D G B E</td>\n",
       "    </tr>\n",
       "    <tr>\n",
       "      <th>134</th>\n",
       "      <td>Jason Mraz</td>\n",
       "      <td>Im Yours</td>\n",
       "      <td>211</td>\n",
       "      <td>4690834</td>\n",
       "      <td>Tab</td>\n",
       "      <td>advanced</td>\n",
       "      <td>Bm</td>\n",
       "      <td>No Capo</td>\n",
       "      <td>E A D G B E</td>\n",
       "    </tr>\n",
       "    <tr>\n",
       "      <th>159</th>\n",
       "      <td>Metallica</td>\n",
       "      <td>Nothing Else Matters</td>\n",
       "      <td>1864</td>\n",
       "      <td>4194130</td>\n",
       "      <td>Tab</td>\n",
       "      <td>advanced</td>\n",
       "      <td>Db</td>\n",
       "      <td>No Capo</td>\n",
       "      <td>E A D G B</td>\n",
       "    </tr>\n",
       "    <tr>\n",
       "      <th>163</th>\n",
       "      <td>Queen</td>\n",
       "      <td>Bohemian Rhapsody</td>\n",
       "      <td>1677</td>\n",
       "      <td>4165302</td>\n",
       "      <td>Chords</td>\n",
       "      <td>advanced</td>\n",
       "      <td>Bb</td>\n",
       "      <td>No Capo</td>\n",
       "      <td>E A D G B E</td>\n",
       "    </tr>\n",
       "    <tr>\n",
       "      <th>587</th>\n",
       "      <td>Muse</td>\n",
       "      <td>Hysteria</td>\n",
       "      <td>685</td>\n",
       "      <td>1823282</td>\n",
       "      <td>Bass</td>\n",
       "      <td>advanced</td>\n",
       "      <td>Am</td>\n",
       "      <td>No Capo</td>\n",
       "      <td>E A D G</td>\n",
       "    </tr>\n",
       "    <tr>\n",
       "      <th>700</th>\n",
       "      <td>Metallica</td>\n",
       "      <td>The Day That Never Comes</td>\n",
       "      <td>547</td>\n",
       "      <td>1613762</td>\n",
       "      <td>Tab</td>\n",
       "      <td>advanced</td>\n",
       "      <td>Db</td>\n",
       "      <td>No Capo</td>\n",
       "      <td>E A D G B E</td>\n",
       "    </tr>\n",
       "  </tbody>\n",
       "</table>\n",
       "</div>"
      ],
      "text/plain": [
       "           Artist                  Song Name  Song Rating  Song Hits  \\\n",
       "36   Eric Clapton            Tears In Heaven         4188    9054292   \n",
       "134    Jason Mraz                   Im Yours          211    4690834   \n",
       "159     Metallica      Nothing Else Matters          1864    4194130   \n",
       "163         Queen          Bohemian Rhapsody         1677    4165302   \n",
       "587          Muse                   Hysteria          685    1823282   \n",
       "700     Metallica  The Day That Never Comes           547    1613762   \n",
       "\n",
       "    Page Type Difficulty  Key     Capo        Tuning  \n",
       "36        Tab   advanced    A  No Capo   E A D G B E  \n",
       "134       Tab   advanced   Bm  No Capo   E A D G B E  \n",
       "159       Tab   advanced   Db  No Capo    E A D G B   \n",
       "163    Chords   advanced   Bb  No Capo   E A D G B E  \n",
       "587      Bass   advanced   Am  No Capo       E A D G  \n",
       "700       Tab   advanced   Db  No Capo   E A D G B E  "
      ]
     },
     "execution_count": 10,
     "metadata": {},
     "output_type": "execute_result"
    }
   ],
   "source": [
    "advanced_tabs"
   ]
  },
  {
   "cell_type": "code",
   "execution_count": 11,
   "metadata": {},
   "outputs": [],
   "source": [
    "data = advanced_tabs.nlargest(20, 'Song Rating')"
   ]
  },
  {
   "cell_type": "code",
   "execution_count": 12,
   "metadata": {},
   "outputs": [
    {
     "data": {
      "text/html": [
       "\n",
       "<div id=\"altair-viz-0e9b8d0444a34642a8ed3d4c06b5001a\"></div>\n",
       "<script type=\"text/javascript\">\n",
       "  (function(spec, embedOpt){\n",
       "    let outputDiv = document.currentScript.previousElementSibling;\n",
       "    if (outputDiv.id !== \"altair-viz-0e9b8d0444a34642a8ed3d4c06b5001a\") {\n",
       "      outputDiv = document.getElementById(\"altair-viz-0e9b8d0444a34642a8ed3d4c06b5001a\");\n",
       "    }\n",
       "    const paths = {\n",
       "      \"vega\": \"https://cdn.jsdelivr.net/npm//vega@5?noext\",\n",
       "      \"vega-lib\": \"https://cdn.jsdelivr.net/npm//vega-lib?noext\",\n",
       "      \"vega-lite\": \"https://cdn.jsdelivr.net/npm//vega-lite@4.8.1?noext\",\n",
       "      \"vega-embed\": \"https://cdn.jsdelivr.net/npm//vega-embed@6?noext\",\n",
       "    };\n",
       "\n",
       "    function loadScript(lib) {\n",
       "      return new Promise(function(resolve, reject) {\n",
       "        var s = document.createElement('script');\n",
       "        s.src = paths[lib];\n",
       "        s.async = true;\n",
       "        s.onload = () => resolve(paths[lib]);\n",
       "        s.onerror = () => reject(`Error loading script: ${paths[lib]}`);\n",
       "        document.getElementsByTagName(\"head\")[0].appendChild(s);\n",
       "      });\n",
       "    }\n",
       "\n",
       "    function showError(err) {\n",
       "      outputDiv.innerHTML = `<div class=\"error\" style=\"color:red;\">${err}</div>`;\n",
       "      throw err;\n",
       "    }\n",
       "\n",
       "    function displayChart(vegaEmbed) {\n",
       "      vegaEmbed(outputDiv, spec, embedOpt)\n",
       "        .catch(err => showError(`Javascript Error: ${err.message}<br>This usually means there's a typo in your chart specification. See the javascript console for the full traceback.`));\n",
       "    }\n",
       "\n",
       "    if(typeof define === \"function\" && define.amd) {\n",
       "      requirejs.config({paths});\n",
       "      require([\"vega-embed\"], displayChart, err => showError(`Error loading script: ${err.message}`));\n",
       "    } else if (typeof vegaEmbed === \"function\") {\n",
       "      displayChart(vegaEmbed);\n",
       "    } else {\n",
       "      loadScript(\"vega\")\n",
       "        .then(() => loadScript(\"vega-lite\"))\n",
       "        .then(() => loadScript(\"vega-embed\"))\n",
       "        .catch(showError)\n",
       "        .then(() => displayChart(vegaEmbed));\n",
       "    }\n",
       "  })({\"config\": {\"view\": {\"continuousWidth\": 400, \"continuousHeight\": 300}}, \"data\": {\"name\": \"data-15d4ed4c182fcebfdf942b959a010094\"}, \"mark\": {\"type\": \"bar\", \"color\": \"darkred\"}, \"encoding\": {\"x\": {\"type\": \"nominal\", \"field\": \"Artist\"}, \"y\": {\"type\": \"quantitative\", \"field\": \"Song Rating\"}}, \"$schema\": \"https://vega.github.io/schema/vega-lite/v4.8.1.json\", \"datasets\": {\"data-15d4ed4c182fcebfdf942b959a010094\": [{\"Artist\": \"Eric Clapton\", \"Song Name\": \"Tears In Heaven\", \"Song Rating\": 4188, \"Song Hits\": 9054292, \"Page Type\": \"Tab\", \"Difficulty\": \"advanced\", \"Key\": \" A\", \"Capo\": \"No Capo\", \"Tuning\": \" E A D G B E\"}, {\"Artist\": \"Metallica\", \"Song Name\": \"Nothing Else Matters \", \"Song Rating\": 1864, \"Song Hits\": 4194130, \"Page Type\": \"Tab\", \"Difficulty\": \"advanced\", \"Key\": \"Db\", \"Capo\": \"No Capo\", \"Tuning\": \" E A D G B \"}, {\"Artist\": \"Queen\", \"Song Name\": \"Bohemian Rhapsody\", \"Song Rating\": 1677, \"Song Hits\": 4165302, \"Page Type\": \"Chords\", \"Difficulty\": \"advanced\", \"Key\": \" Bb\", \"Capo\": \"No Capo\", \"Tuning\": \" E A D G B E\"}, {\"Artist\": \"Muse\", \"Song Name\": \"Hysteria\", \"Song Rating\": 685, \"Song Hits\": 1823282, \"Page Type\": \"Bass\", \"Difficulty\": \"advanced\", \"Key\": \" Am\", \"Capo\": \"No Capo\", \"Tuning\": \" E A D G\"}, {\"Artist\": \"Metallica\", \"Song Name\": \"The Day That Never Comes \", \"Song Rating\": 547, \"Song Hits\": 1613762, \"Page Type\": \"Tab\", \"Difficulty\": \"advanced\", \"Key\": \"Db\", \"Capo\": \"No Capo\", \"Tuning\": \"E A D G B E\"}, {\"Artist\": \"Jason Mraz\", \"Song Name\": \"Im Yours\", \"Song Rating\": 211, \"Song Hits\": 4690834, \"Page Type\": \"Tab\", \"Difficulty\": \"advanced\", \"Key\": \" Bm\", \"Capo\": \"No Capo\", \"Tuning\": \" E A D G B E\"}]}}, {\"mode\": \"vega-lite\"});\n",
       "</script>"
      ],
      "text/plain": [
       "alt.Chart(...)"
      ]
     },
     "execution_count": 12,
     "metadata": {},
     "output_type": "execute_result"
    }
   ],
   "source": [
    "alt.Chart(data).mark_bar(color='darkred').encode(\n",
    "    x=alt.X('Artist', type='nominal'),\n",
    "    y=alt.Y('Song Rating', type='quantitative')\n",
    ")"
   ]
  },
  {
   "cell_type": "markdown",
   "metadata": {},
   "source": [
    "## Keys Distribution"
   ]
  },
  {
   "cell_type": "code",
   "execution_count": 13,
   "metadata": {},
   "outputs": [],
   "source": [
    "data=df[['Key']]"
   ]
  },
  {
   "cell_type": "code",
   "execution_count": 14,
   "metadata": {},
   "outputs": [
    {
     "data": {
      "text/html": [
       "\n",
       "<div id=\"altair-viz-a7771df912b74f4a8138098bac05c237\"></div>\n",
       "<script type=\"text/javascript\">\n",
       "  (function(spec, embedOpt){\n",
       "    let outputDiv = document.currentScript.previousElementSibling;\n",
       "    if (outputDiv.id !== \"altair-viz-a7771df912b74f4a8138098bac05c237\") {\n",
       "      outputDiv = document.getElementById(\"altair-viz-a7771df912b74f4a8138098bac05c237\");\n",
       "    }\n",
       "    const paths = {\n",
       "      \"vega\": \"https://cdn.jsdelivr.net/npm//vega@5?noext\",\n",
       "      \"vega-lib\": \"https://cdn.jsdelivr.net/npm//vega-lib?noext\",\n",
       "      \"vega-lite\": \"https://cdn.jsdelivr.net/npm//vega-lite@4.8.1?noext\",\n",
       "      \"vega-embed\": \"https://cdn.jsdelivr.net/npm//vega-embed@6?noext\",\n",
       "    };\n",
       "\n",
       "    function loadScript(lib) {\n",
       "      return new Promise(function(resolve, reject) {\n",
       "        var s = document.createElement('script');\n",
       "        s.src = paths[lib];\n",
       "        s.async = true;\n",
       "        s.onload = () => resolve(paths[lib]);\n",
       "        s.onerror = () => reject(`Error loading script: ${paths[lib]}`);\n",
       "        document.getElementsByTagName(\"head\")[0].appendChild(s);\n",
       "      });\n",
       "    }\n",
       "\n",
       "    function showError(err) {\n",
       "      outputDiv.innerHTML = `<div class=\"error\" style=\"color:red;\">${err}</div>`;\n",
       "      throw err;\n",
       "    }\n",
       "\n",
       "    function displayChart(vegaEmbed) {\n",
       "      vegaEmbed(outputDiv, spec, embedOpt)\n",
       "        .catch(err => showError(`Javascript Error: ${err.message}<br>This usually means there's a typo in your chart specification. See the javascript console for the full traceback.`));\n",
       "    }\n",
       "\n",
       "    if(typeof define === \"function\" && define.amd) {\n",
       "      requirejs.config({paths});\n",
       "      require([\"vega-embed\"], displayChart, err => showError(`Error loading script: ${err.message}`));\n",
       "    } else if (typeof vegaEmbed === \"function\") {\n",
       "      displayChart(vegaEmbed);\n",
       "    } else {\n",
       "      loadScript(\"vega\")\n",
       "        .then(() => loadScript(\"vega-lite\"))\n",
       "        .then(() => loadScript(\"vega-embed\"))\n",
       "        .catch(showError)\n",
       "        .then(() => displayChart(vegaEmbed));\n",
       "    }\n",
       "  })({\"config\": {\"view\": {\"continuousWidth\": 400, \"continuousHeight\": 300}}, \"data\": {\"name\": \"data-64b413b342a34c2d01e592df3b37593d\"}, \"mark\": \"bar\", \"encoding\": {\"x\": {\"type\": \"nominal\", \"field\": \"Key\"}, \"y\": {\"type\": \"nominal\", \"aggregate\": \"count\", \"field\": \"Key\"}}, \"$schema\": \"https://vega.github.io/schema/vega-lite/v4.8.1.json\", \"datasets\": {\"data-64b413b342a34c2d01e592df3b37593d\": [{\"Key\": \" Db\"}, {\"Key\": \" Ab\"}, {\"Key\": \" Fm\"}, {\"Key\": \" Em\"}, {\"Key\": \" Am\"}, {\"Key\": \" B\"}, {\"Key\": \" C\"}, {\"Key\": \" D\"}, {\"Key\": \" Gm\"}, {\"Key\": \" Bm\"}, {\"Key\": \" A\"}, {\"Key\": \" C\"}, {\"Key\": \" Em\"}, {\"Key\": \" E\"}, {\"Key\": \" Bbm\"}, {\"Key\": \" E\"}, {\"Key\": \" G\"}, {\"Key\": \" Em\"}, {\"Key\": \" F#m\"}, {\"Key\": \" C\"}, {\"Key\": \" C\"}, {\"Key\": \" Bm\"}, {\"Key\": \" Bm\"}, {\"Key\": \" Bbm\"}, {\"Key\": \" C\"}, {\"Key\": \" D\"}, {\"Key\": \" F#m\"}, {\"Key\": \" B\"}, {\"Key\": \" C\"}, {\"Key\": \" Ab\"}, {\"Key\": \" D\"}, {\"Key\": \" Bm\"}, {\"Key\": \" G\"}, {\"Key\": \" D\"}, {\"Key\": \" F\"}, {\"Key\": \"Db\"}, {\"Key\": \" A\"}, {\"Key\": \" B\"}, {\"Key\": \" Em\"}, {\"Key\": \" Am\"}, {\"Key\": \" C\"}, {\"Key\": \" F\"}, {\"Key\": \" A\"}, {\"Key\": \" E\"}, {\"Key\": \" Am\"}, {\"Key\": \" Am\"}, {\"Key\": \" C\"}, {\"Key\": \" Cm\"}, {\"Key\": \" G\"}, {\"Key\": \" Am\"}, {\"Key\": \" F#\"}, {\"Key\": \" Bm\"}, {\"Key\": \" C\"}, {\"Key\": \" Eb\"}, {\"Key\": \" Bm\"}, {\"Key\": \" G\"}, {\"Key\": \" G\"}, {\"Key\": \" Dm\"}, {\"Key\": \" Am\"}, {\"Key\": \" A\"}, {\"Key\": \" G\"}, {\"Key\": \" Em\"}, {\"Key\": \" G\"}, {\"Key\": \" C\"}, {\"Key\": \" E\"}, {\"Key\": \" F\"}, {\"Key\": \" Bm\"}, {\"Key\": \" C\"}, {\"Key\": \" Cm\"}, {\"Key\": \" G\"}, {\"Key\": \" G\"}, {\"Key\": \" Em\"}, {\"Key\": \" Em\"}, {\"Key\": \" D\"}, {\"Key\": \" F\"}, {\"Key\": \" C\"}, {\"Key\": \" Am\"}, {\"Key\": \" G\"}, {\"Key\": \" G\"}, {\"Key\": \" Fm\"}, {\"Key\": \" G\"}, {\"Key\": \" C#\"}, {\"Key\": \" Am\"}, {\"Key\": \" F#m\"}, {\"Key\": \" Em\"}, {\"Key\": \" A\"}, {\"Key\": \" F\"}, {\"Key\": \" G\"}, {\"Key\": \"Db\"}, {\"Key\": \" C\"}, {\"Key\": \" F\"}, {\"Key\": \" C\"}, {\"Key\": \" Dm\"}, {\"Key\": \" E\"}, {\"Key\": \" G\"}, {\"Key\": \" Dm\"}, {\"Key\": \" C\"}, {\"Key\": \" C#m\"}, {\"Key\": \" Am\"}, {\"Key\": \" Bbm\"}, {\"Key\": \" C\"}, {\"Key\": \" Am\"}, {\"Key\": \" Db\"}, {\"Key\": \" C\"}, {\"Key\": \" Bb\"}, {\"Key\": \" G\"}, {\"Key\": \"Db\"}, {\"Key\": \" Am\"}, {\"Key\": \" C\"}, {\"Key\": \" G\"}, {\"Key\": \" Am\"}, {\"Key\": \" G\"}, {\"Key\": \" C\"}, {\"Key\": \" G\"}, {\"Key\": \" Eb\"}, {\"Key\": \" C\"}, {\"Key\": \" A\"}, {\"Key\": \" D\"}, {\"Key\": \" C#m\"}, {\"Key\": \" A\"}, {\"Key\": \" D\"}, {\"Key\": \" F#\"}, {\"Key\": \" A\"}, {\"Key\": \" Gm\"}, {\"Key\": \"Db\"}, {\"Key\": \" Ebm\"}, {\"Key\": \" G\"}, {\"Key\": \"Db\"}, {\"Key\": \" C#m\"}, {\"Key\": \"Db\"}, {\"Key\": \" Bm\"}, {\"Key\": \" Bm\"}, {\"Key\": \" A\"}, {\"Key\": \" C\"}, {\"Key\": \" Bm\"}, {\"Key\": \" G\"}, {\"Key\": \" Am\"}, {\"Key\": \" Eb\"}, {\"Key\": \" Em\"}, {\"Key\": \" C\"}, {\"Key\": \" Em\"}, {\"Key\": \" F\"}, {\"Key\": \" Am\"}, {\"Key\": \"Db\"}, {\"Key\": \" D\"}, {\"Key\": \" C\"}, {\"Key\": \" Bb\"}, {\"Key\": \" Em\"}, {\"Key\": \" Gm\"}, {\"Key\": \" C\"}, {\"Key\": \"Db\"}, {\"Key\": \" G\"}, {\"Key\": \" G\"}, {\"Key\": \" C\"}, {\"Key\": \" Em\"}, {\"Key\": \" C\"}, {\"Key\": \" G\"}, {\"Key\": \" D\"}, {\"Key\": \" G\"}, {\"Key\": \"Db\"}, {\"Key\": \" Ebm\"}, {\"Key\": \" F\"}, {\"Key\": \"Db\"}, {\"Key\": \" Bb\"}, {\"Key\": \" G\"}, {\"Key\": \" Am\"}, {\"Key\": \"Db\"}, {\"Key\": \" B\"}, {\"Key\": \" Dm\"}, {\"Key\": \"Db\"}, {\"Key\": \" F\"}, {\"Key\": \" E\"}, {\"Key\": \" D\"}, {\"Key\": \" F\"}, {\"Key\": \" Am\"}, {\"Key\": \" Am\"}, {\"Key\": \" F#m\"}, {\"Key\": \" F#m\"}, {\"Key\": \" D\"}, {\"Key\": \" B\"}, {\"Key\": \"Db\"}, {\"Key\": \"Db\"}, {\"Key\": \" C\"}, {\"Key\": \" D\"}, {\"Key\": \"Db\"}, {\"Key\": \" G\"}, {\"Key\": \" F\"}, {\"Key\": \" Em\"}, {\"Key\": \" Am\"}, {\"Key\": \" Bm\"}, {\"Key\": \" Em\"}, {\"Key\": \" Ebm\"}, {\"Key\": \" E\"}, {\"Key\": \" A\"}, {\"Key\": \" Em\"}, {\"Key\": \" Db\"}, {\"Key\": \"Db\"}, {\"Key\": \" G\"}, {\"Key\": \" D\"}, {\"Key\": \" C\"}, {\"Key\": \" E\"}, {\"Key\": \" A\"}, {\"Key\": \" E\"}, {\"Key\": \" C\"}, {\"Key\": \"Db\"}, {\"Key\": \" D\"}, {\"Key\": \" D\"}, {\"Key\": \" Db\"}, {\"Key\": \"Db\"}, {\"Key\": \" B\"}, {\"Key\": \" Em\"}, {\"Key\": \" Em\"}, {\"Key\": \" Em\"}, {\"Key\": \" C\"}, {\"Key\": \" Am\"}, {\"Key\": \" C\"}, {\"Key\": \" C\"}, {\"Key\": \" Db\"}, {\"Key\": \" D\"}, {\"Key\": \"Db\"}, {\"Key\": \" Am\"}, {\"Key\": \" D\"}, {\"Key\": \" G\"}, {\"Key\": \" Bm\"}, {\"Key\": \" G\"}, {\"Key\": \" Em\"}, {\"Key\": \"Db\"}, {\"Key\": \" A\"}, {\"Key\": \"Db\"}, {\"Key\": \" G\"}, {\"Key\": \" B\"}, {\"Key\": \" G\"}, {\"Key\": \" Bb\"}, {\"Key\": \" G\"}, {\"Key\": \" G\"}, {\"Key\": \"Db\"}, {\"Key\": \" D\"}, {\"Key\": \" C\"}, {\"Key\": \" G\"}, {\"Key\": \" F\"}, {\"Key\": \" G\"}, {\"Key\": \" E\"}, {\"Key\": \" Bm\"}, {\"Key\": \" E\"}, {\"Key\": \" A\"}, {\"Key\": \" C\"}, {\"Key\": \" Bm\"}, {\"Key\": \"Db\"}, {\"Key\": \" A\"}, {\"Key\": \"Db\"}, {\"Key\": \" C#\"}, {\"Key\": \" D\"}, {\"Key\": \" A\"}, {\"Key\": \" G\"}, {\"Key\": \" Bb\"}, {\"Key\": \" C\"}, {\"Key\": \" G\"}, {\"Key\": \"Db\"}, {\"Key\": \" Ab\"}, {\"Key\": \" E\"}, {\"Key\": \"Db\"}, {\"Key\": \" Am\"}, {\"Key\": \" Dm\"}, {\"Key\": \" Bbm\"}, {\"Key\": \" G\"}, {\"Key\": \"Db\"}, {\"Key\": \" D\"}, {\"Key\": \" C\"}, {\"Key\": \" Cm\"}, {\"Key\": \" Em\"}, {\"Key\": \" G\"}, {\"Key\": \" C\"}, {\"Key\": \" Em\"}, {\"Key\": \" C\"}, {\"Key\": \" D\"}, {\"Key\": \" Am\"}, {\"Key\": \" Ab\"}, {\"Key\": \" F\"}, {\"Key\": \" B\"}, {\"Key\": \" Am\"}, {\"Key\": \" D\"}, {\"Key\": \" G\"}, {\"Key\": \" Cm\"}, {\"Key\": \"Db\"}, {\"Key\": \" C\"}, {\"Key\": \" F\"}, {\"Key\": \" C\"}, {\"Key\": \" D\"}, {\"Key\": \" C\"}, {\"Key\": \" Am\"}, {\"Key\": \" E\"}, {\"Key\": \"Db\"}, {\"Key\": \" Am\"}, {\"Key\": \" G\"}, {\"Key\": \" Dm\"}, {\"Key\": \" E\"}, {\"Key\": \" Ebm\"}, {\"Key\": \" Fm\"}, {\"Key\": \"Db\"}, {\"Key\": \" Fm\"}, {\"Key\": \"Db\"}, {\"Key\": \" C\"}, {\"Key\": \"Db\"}, {\"Key\": \"Db\"}, {\"Key\": \" C\"}, {\"Key\": \" D\"}, {\"Key\": \" G#m\"}, {\"Key\": \" Bm\"}, {\"Key\": \" C\"}, {\"Key\": \" Em\"}, {\"Key\": \" Bm\"}, {\"Key\": \" F\"}, {\"Key\": \" D\"}, {\"Key\": \"Db\"}, {\"Key\": \" Bbm\"}, {\"Key\": \" Eb\"}, {\"Key\": \" Am\"}, {\"Key\": \" G\"}, {\"Key\": \" Am\"}, {\"Key\": \" D\"}, {\"Key\": \" D\"}, {\"Key\": \" Em\"}, {\"Key\": \"Db\"}, {\"Key\": \"Db\"}, {\"Key\": \"Db\"}, {\"Key\": \" C#m\"}, {\"Key\": \" E\"}, {\"Key\": \"Db\"}, {\"Key\": \"Db\"}, {\"Key\": \" C\"}, {\"Key\": \" C\"}, {\"Key\": \"Db\"}, {\"Key\": \"Db\"}, {\"Key\": \" Em\"}, {\"Key\": \" Em\"}, {\"Key\": \" Am\"}, {\"Key\": \" G\"}, {\"Key\": \" Dm\"}, {\"Key\": \"Db\"}, {\"Key\": \" Cm\"}, {\"Key\": \" C\"}, {\"Key\": \" D\"}, {\"Key\": \"Db\"}, {\"Key\": \" G\"}, {\"Key\": \" Bb\"}, {\"Key\": \" G\"}, {\"Key\": \" Ab\"}, {\"Key\": \" Em\"}, {\"Key\": \" Eb\"}, {\"Key\": \" Em\"}, {\"Key\": \" A\"}, {\"Key\": \" Am\"}, {\"Key\": \" C\"}, {\"Key\": \" Bm\"}, {\"Key\": \" F\"}, {\"Key\": \"Db\"}, {\"Key\": \"Db\"}, {\"Key\": \"Db\"}, {\"Key\": \"Db\"}, {\"Key\": \" C\"}, {\"Key\": \" F\"}, {\"Key\": \" E\"}, {\"Key\": \"Db\"}, {\"Key\": \" Em\"}, {\"Key\": \" C\"}, {\"Key\": \" C\"}, {\"Key\": \" D\"}, {\"Key\": \"Db\"}, {\"Key\": \"Db\"}, {\"Key\": \" G\"}, {\"Key\": \"Db\"}, {\"Key\": \" A\"}, {\"Key\": \"Db\"}, {\"Key\": \" Bm\"}, {\"Key\": \"Db\"}, {\"Key\": \"Db\"}, {\"Key\": \" Em\"}, {\"Key\": \"Db\"}, {\"Key\": \"Db\"}, {\"Key\": \" A\"}, {\"Key\": \" Cm\"}, {\"Key\": \" C\"}, {\"Key\": \" C\"}, {\"Key\": \" F#m\"}, {\"Key\": \" E\"}, {\"Key\": \"Db\"}, {\"Key\": \" C\"}, {\"Key\": \" G\"}, {\"Key\": \" C\"}, {\"Key\": \" F\"}, {\"Key\": \" Am\"}, {\"Key\": \" A\"}, {\"Key\": \" Em\"}, {\"Key\": \" Eb\"}, {\"Key\": \" A\"}, {\"Key\": \"Db\"}, {\"Key\": \"Db\"}, {\"Key\": \" Dm\"}, {\"Key\": \"Db\"}, {\"Key\": \" C#m\"}, {\"Key\": \"Db\"}, {\"Key\": \"Db\"}, {\"Key\": \"Db\"}, {\"Key\": \" F#m\"}, {\"Key\": \" G\"}, {\"Key\": \" C\"}, {\"Key\": \" G\"}, {\"Key\": \"Db\"}, {\"Key\": \"Db\"}, {\"Key\": \"Db\"}, {\"Key\": \"Db\"}, {\"Key\": \"Db\"}, {\"Key\": \" Dm\"}, {\"Key\": \" A\"}, {\"Key\": \"Db\"}, {\"Key\": \" E\"}, {\"Key\": \"Db\"}, {\"Key\": \" F\"}, {\"Key\": \" Eb\"}, {\"Key\": \" Em\"}, {\"Key\": \" Ebm\"}, {\"Key\": \" Ab\"}, {\"Key\": \" A\"}, {\"Key\": \" Dm\"}, {\"Key\": \" G\"}, {\"Key\": \" D\"}, {\"Key\": \"Db\"}, {\"Key\": \" A\"}, {\"Key\": \"Db\"}, {\"Key\": \"Db\"}, {\"Key\": \" C#m\"}, {\"Key\": \" C\"}, {\"Key\": \" Em\"}, {\"Key\": \"Db\"}, {\"Key\": \" G\"}, {\"Key\": \" D\"}, {\"Key\": \" D\"}, {\"Key\": \" C\"}, {\"Key\": \" G\"}, {\"Key\": \" A\"}, {\"Key\": \" A\"}, {\"Key\": \" Dm\"}, {\"Key\": \" Em\"}, {\"Key\": \"Db\"}, {\"Key\": \" C\"}, {\"Key\": \" F#m\"}, {\"Key\": \"Db\"}, {\"Key\": \"Db\"}, {\"Key\": \" G\"}, {\"Key\": \"Db\"}, {\"Key\": \" Dm\"}, {\"Key\": \" Am\"}, {\"Key\": \"Db\"}, {\"Key\": \" Ab\"}, {\"Key\": \" F\"}, {\"Key\": \" Ab\"}, {\"Key\": \"Db\"}, {\"Key\": \" E\"}, {\"Key\": \"Db\"}, {\"Key\": \"Db\"}, {\"Key\": \"Db\"}, {\"Key\": \" C\"}, {\"Key\": \" Dm\"}, {\"Key\": \" D\"}, {\"Key\": \"Db\"}, {\"Key\": \" G\"}, {\"Key\": \"Db\"}, {\"Key\": \" F#m\"}, {\"Key\": \"Db\"}, {\"Key\": \"Db\"}, {\"Key\": \"Db\"}, {\"Key\": \"Db\"}, {\"Key\": \" Eb\"}, {\"Key\": \" Bm\"}, {\"Key\": \" E\"}, {\"Key\": \" A\"}, {\"Key\": \" G\"}, {\"Key\": \"Db\"}, {\"Key\": \" B\"}, {\"Key\": \" D\"}, {\"Key\": \" Am\"}, {\"Key\": \" A\"}, {\"Key\": \"Db\"}, {\"Key\": \"Db\"}, {\"Key\": \" C\"}, {\"Key\": \" C\"}, {\"Key\": \"Db\"}, {\"Key\": \" B\"}, {\"Key\": \" B\"}, {\"Key\": \" C\"}, {\"Key\": \" Em\"}, {\"Key\": \"Db\"}, {\"Key\": \"Db\"}, {\"Key\": \" Gm\"}, {\"Key\": \"Db\"}, {\"Key\": \" C\"}, {\"Key\": \" F\"}, {\"Key\": \" G\"}, {\"Key\": \" Db\"}, {\"Key\": \" G\"}, {\"Key\": \"Db\"}, {\"Key\": \" Am\"}, {\"Key\": \" F#m\"}, {\"Key\": \" Bm\"}, {\"Key\": \" G\"}, {\"Key\": \"Db\"}, {\"Key\": \"Db\"}, {\"Key\": \" Bbm\"}, {\"Key\": \" Cm\"}, {\"Key\": \" G\"}, {\"Key\": \"Db\"}, {\"Key\": \" G\"}, {\"Key\": \"Db\"}, {\"Key\": \" C\"}, {\"Key\": \" Db\"}, {\"Key\": \" F\"}, {\"Key\": \"Db\"}, {\"Key\": \" G\"}, {\"Key\": \" G\"}, {\"Key\": \" C\"}, {\"Key\": \"Db\"}, {\"Key\": \" D\"}, {\"Key\": \" D#m\"}, {\"Key\": \" Em\"}, {\"Key\": \" F\"}, {\"Key\": \" Bm\"}, {\"Key\": \" F\"}, {\"Key\": \" B\"}, {\"Key\": \"Db\"}, {\"Key\": \"Db\"}, {\"Key\": \" C\"}, {\"Key\": \"Db\"}, {\"Key\": \" D\"}, {\"Key\": \"Db\"}, {\"Key\": \" B\"}, {\"Key\": \"Db\"}, {\"Key\": \" E\"}, {\"Key\": \" F\"}, {\"Key\": \" F\"}, {\"Key\": \" Em\"}, {\"Key\": \" C\"}, {\"Key\": \"Db\"}, {\"Key\": \" Eb\"}, {\"Key\": \" Bm\"}, {\"Key\": \" Gb\"}, {\"Key\": \" Dm\"}, {\"Key\": \" A\"}, {\"Key\": \" D\"}, {\"Key\": \" Em\"}, {\"Key\": \" G\"}, {\"Key\": \"Db\"}, {\"Key\": \" Em\"}, {\"Key\": \" Am\"}, {\"Key\": \"Db\"}, {\"Key\": \" C\"}, {\"Key\": \" G\"}, {\"Key\": \" Ab\"}, {\"Key\": \"Db\"}, {\"Key\": \"Db\"}, {\"Key\": \" G\"}, {\"Key\": \" D\"}, {\"Key\": \" D\"}, {\"Key\": \" G\"}, {\"Key\": \" Am\"}, {\"Key\": \" Eb\"}, {\"Key\": \"Db\"}, {\"Key\": \"Db\"}, {\"Key\": \" C\"}, {\"Key\": \"Db\"}, {\"Key\": \" Eb\"}, {\"Key\": \" D\"}, {\"Key\": \" Eb\"}, {\"Key\": \" C\"}, {\"Key\": \"Db\"}, {\"Key\": \"Db\"}, {\"Key\": \"Db\"}, {\"Key\": \"Db\"}, {\"Key\": \"Db\"}, {\"Key\": \" B\"}, {\"Key\": \" C\"}, {\"Key\": \"Db\"}, {\"Key\": \" C\"}, {\"Key\": \" Gm\"}, {\"Key\": \" F\"}, {\"Key\": \" C\"}, {\"Key\": \" C\"}, {\"Key\": \"Db\"}, {\"Key\": \" Am\"}, {\"Key\": \" G\"}, {\"Key\": \"Db\"}, {\"Key\": \" A\"}, {\"Key\": \" A\"}, {\"Key\": \" F\"}, {\"Key\": \" D\"}, {\"Key\": \" C\"}, {\"Key\": \" B\"}, {\"Key\": \" Em\"}, {\"Key\": \" F\"}, {\"Key\": \" C\"}, {\"Key\": \" C\"}, {\"Key\": \"Db\"}, {\"Key\": \"Db\"}, {\"Key\": \" G\"}, {\"Key\": \" C\"}, {\"Key\": \" Em\"}, {\"Key\": \"Db\"}, {\"Key\": \" C\"}, {\"Key\": \" G\"}, {\"Key\": \"Db\"}, {\"Key\": \" G\"}, {\"Key\": \"Db\"}, {\"Key\": \"Db\"}, {\"Key\": \"Db\"}, {\"Key\": \" Em\"}, {\"Key\": \" D\"}, {\"Key\": \" Em\"}, {\"Key\": \" Em\"}, {\"Key\": \" F\"}, {\"Key\": \" Cm\"}, {\"Key\": \" Em\"}, {\"Key\": \" D\"}, {\"Key\": \" Em\"}, {\"Key\": \" A\"}, {\"Key\": \" Db\"}, {\"Key\": \"Db\"}, {\"Key\": \"Db\"}, {\"Key\": \" G\"}, {\"Key\": \"Db\"}, {\"Key\": \" G\"}, {\"Key\": \" C\"}, {\"Key\": \" Am\"}, {\"Key\": \" C\"}, {\"Key\": \" Ab\"}, {\"Key\": \" F\"}, {\"Key\": \" Db\"}, {\"Key\": \" F#m\"}, {\"Key\": \" D\"}, {\"Key\": \" E\"}, {\"Key\": \" Gb\"}, {\"Key\": \" C\"}, {\"Key\": \" C\"}, {\"Key\": \" A\"}, {\"Key\": \" C\"}, {\"Key\": \"Db\"}, {\"Key\": \" C\"}, {\"Key\": \" A\"}, {\"Key\": \" Am\"}, {\"Key\": \"Db\"}, {\"Key\": \" F\"}, {\"Key\": \"Db\"}, {\"Key\": \"Db\"}, {\"Key\": \"Db\"}, {\"Key\": \" Am\"}, {\"Key\": \" F#m\"}, {\"Key\": \" C#m\"}, {\"Key\": \" Fm\"}, {\"Key\": \" Cm\"}, {\"Key\": \" C\"}, {\"Key\": \" D\"}, {\"Key\": \" G\"}, {\"Key\": \" A\"}, {\"Key\": \" D\"}, {\"Key\": \" C\"}, {\"Key\": \"Db\"}, {\"Key\": \" C\"}, {\"Key\": \"Db\"}, {\"Key\": \"Db\"}, {\"Key\": \" G\"}, {\"Key\": \" G\"}, {\"Key\": \"Db\"}, {\"Key\": \" F#m\"}, {\"Key\": \" G\"}, {\"Key\": \"Db\"}, {\"Key\": \"Db\"}, {\"Key\": \" D\"}, {\"Key\": \" G\"}, {\"Key\": \" D\"}, {\"Key\": \" Am\"}, {\"Key\": \"Db\"}, {\"Key\": \" C\"}, {\"Key\": \"Db\"}, {\"Key\": \"Db\"}, {\"Key\": \" Gm\"}, {\"Key\": \" Am\"}, {\"Key\": \" E\"}, {\"Key\": \" C\"}, {\"Key\": \"Db\"}, {\"Key\": \" Bb\"}, {\"Key\": \" Dm\"}, {\"Key\": \" F\"}, {\"Key\": \" Bb\"}, {\"Key\": \"Db\"}, {\"Key\": \" Cm\"}, {\"Key\": \"Db\"}, {\"Key\": \"Db\"}, {\"Key\": \" Eb\"}, {\"Key\": \"Db\"}, {\"Key\": \"Db\"}, {\"Key\": \"Db\"}, {\"Key\": \" F#\"}, {\"Key\": \"Db\"}, {\"Key\": \"Db\"}, {\"Key\": \" A\"}, {\"Key\": \" Am\"}, {\"Key\": \" G\"}, {\"Key\": \"Db\"}, {\"Key\": \" F\"}, {\"Key\": \" C\"}, {\"Key\": \"Db\"}, {\"Key\": \"Db\"}, {\"Key\": \" Dm\"}, {\"Key\": \"Db\"}, {\"Key\": \" G\"}, {\"Key\": \" Bbm\"}, {\"Key\": \"Db\"}, {\"Key\": \"Db\"}, {\"Key\": \"Db\"}, {\"Key\": \"Db\"}, {\"Key\": \"Db\"}, {\"Key\": \"Db\"}, {\"Key\": \"Db\"}, {\"Key\": \" Am\"}, {\"Key\": \" E\"}, {\"Key\": \" Am\"}, {\"Key\": \" Bm\"}, {\"Key\": \"Db\"}, {\"Key\": \" A\"}, {\"Key\": \" Em\"}, {\"Key\": \" G\"}, {\"Key\": \" Am\"}, {\"Key\": \" D\"}, {\"Key\": \"Db\"}, {\"Key\": \"Db\"}, {\"Key\": \" Cm\"}, {\"Key\": \"Db\"}, {\"Key\": \"Db\"}, {\"Key\": \"Db\"}, {\"Key\": \"Db\"}, {\"Key\": \"Db\"}, {\"Key\": \" Bb\"}, {\"Key\": \" A\"}, {\"Key\": \" Ebm\"}, {\"Key\": \" Fm\"}, {\"Key\": \"Db\"}, {\"Key\": \"Db\"}, {\"Key\": \" Am\"}, {\"Key\": \" Am\"}, {\"Key\": \"Db\"}, {\"Key\": \" Em\"}, {\"Key\": \" G\"}, {\"Key\": \" D\"}, {\"Key\": \" E\"}, {\"Key\": \" Db\"}, {\"Key\": \" G\"}, {\"Key\": \"Db\"}, {\"Key\": \"Db\"}, {\"Key\": \"Db\"}, {\"Key\": \"Db\"}, {\"Key\": \" Gm\"}, {\"Key\": \" D\"}, {\"Key\": \" A\"}, {\"Key\": \"Db\"}, {\"Key\": \"Db\"}, {\"Key\": \" D\"}, {\"Key\": \"Db\"}, {\"Key\": \"Db\"}, {\"Key\": \" C\"}, {\"Key\": \" B\"}, {\"Key\": \" Gm\"}, {\"Key\": \" A\"}, {\"Key\": \" D\"}, {\"Key\": \"Db\"}, {\"Key\": \" Ebm\"}, {\"Key\": \"Db\"}, {\"Key\": \" G\"}, {\"Key\": \" G\"}, {\"Key\": \" C\"}, {\"Key\": \" F\"}, {\"Key\": \"Db\"}, {\"Key\": \"Db\"}, {\"Key\": \" Bbm\"}, {\"Key\": \" Abm\"}, {\"Key\": \" D\"}, {\"Key\": \" A#m\"}, {\"Key\": \" Cm\"}, {\"Key\": \"Db\"}, {\"Key\": \" C\"}, {\"Key\": \"Db\"}, {\"Key\": \" Bb\"}, {\"Key\": \" Bb\"}, {\"Key\": \"Db\"}, {\"Key\": \"Db\"}, {\"Key\": \"Db\"}, {\"Key\": \" F#\"}, {\"Key\": \" Abm\"}, {\"Key\": \"Db\"}, {\"Key\": \"Db\"}, {\"Key\": \"Db\"}, {\"Key\": \" Am\"}, {\"Key\": \"Db\"}, {\"Key\": \"Db\"}, {\"Key\": \" D\"}, {\"Key\": \" E\"}, {\"Key\": \"Db\"}, {\"Key\": \"Db\"}, {\"Key\": \"Db\"}, {\"Key\": \" G\"}, {\"Key\": \"Db\"}, {\"Key\": \"Db\"}, {\"Key\": \"Db\"}, {\"Key\": \"Db\"}, {\"Key\": \" Ebm\"}, {\"Key\": \" Gb\"}, {\"Key\": \"Db\"}, {\"Key\": \"Db\"}, {\"Key\": \" Em\"}, {\"Key\": \"Db\"}, {\"Key\": \"Db\"}, {\"Key\": \"Db\"}, {\"Key\": \"Db\"}, {\"Key\": \" Dm\"}, {\"Key\": \"Db\"}, {\"Key\": \" G\"}, {\"Key\": \"Db\"}, {\"Key\": \"Db\"}, {\"Key\": \"Db\"}, {\"Key\": \"Db\"}, {\"Key\": \" F#m\"}, {\"Key\": \" Bbm\"}, {\"Key\": \"Db\"}, {\"Key\": \" D\"}, {\"Key\": \"Db\"}, {\"Key\": \"Db\"}, {\"Key\": \"Db\"}, {\"Key\": \" D\"}, {\"Key\": \"Db\"}, {\"Key\": \"Db\"}, {\"Key\": \"Db\"}, {\"Key\": \"Db\"}, {\"Key\": \" A\"}, {\"Key\": \"Db\"}, {\"Key\": \"Db\"}, {\"Key\": \"Db\"}, {\"Key\": \" D\"}, {\"Key\": \"Db\"}, {\"Key\": \"Db\"}, {\"Key\": \"Db\"}, {\"Key\": \"Db\"}, {\"Key\": \" A\"}, {\"Key\": \"Db\"}]}}, {\"mode\": \"vega-lite\"});\n",
       "</script>"
      ],
      "text/plain": [
       "alt.Chart(...)"
      ]
     },
     "execution_count": 14,
     "metadata": {},
     "output_type": "execute_result"
    }
   ],
   "source": [
    "alt.Chart(data).mark_bar().encode(\n",
    "    x='Key',\n",
    "    y='count(Key)'\n",
    ")"
   ]
  },
  {
   "cell_type": "markdown",
   "metadata": {},
   "source": [
    "# Songs containing the word *love*"
   ]
  },
  {
   "cell_type": "code",
   "execution_count": 15,
   "metadata": {},
   "outputs": [],
   "source": [
    "data=df[df['Song Name'].str.contains('Love', regex=False)]"
   ]
  },
  {
   "cell_type": "code",
   "execution_count": 16,
   "metadata": {},
   "outputs": [
    {
     "data": {
      "text/html": [
       "<div>\n",
       "<style scoped>\n",
       "    .dataframe tbody tr th:only-of-type {\n",
       "        vertical-align: middle;\n",
       "    }\n",
       "\n",
       "    .dataframe tbody tr th {\n",
       "        vertical-align: top;\n",
       "    }\n",
       "\n",
       "    .dataframe thead th {\n",
       "        text-align: right;\n",
       "    }\n",
       "</style>\n",
       "<table border=\"1\" class=\"dataframe\">\n",
       "  <thead>\n",
       "    <tr style=\"text-align: right;\">\n",
       "      <th></th>\n",
       "      <th>Artist</th>\n",
       "      <th>Song Name</th>\n",
       "      <th>Song Rating</th>\n",
       "      <th>Song Hits</th>\n",
       "      <th>Page Type</th>\n",
       "      <th>Difficulty</th>\n",
       "      <th>Key</th>\n",
       "      <th>Capo</th>\n",
       "      <th>Tuning</th>\n",
       "    </tr>\n",
       "  </thead>\n",
       "  <tbody>\n",
       "    <tr>\n",
       "      <th>6</th>\n",
       "      <td>Elvis Presley</td>\n",
       "      <td>Cant Help Falling In Love</td>\n",
       "      <td>19747</td>\n",
       "      <td>19857493</td>\n",
       "      <td>Chords</td>\n",
       "      <td>intermediate</td>\n",
       "      <td>C</td>\n",
       "      <td>2nd fret</td>\n",
       "      <td>E A D G B E</td>\n",
       "    </tr>\n",
       "    <tr>\n",
       "      <th>13</th>\n",
       "      <td>Justin Bieber</td>\n",
       "      <td>Love Yourself</td>\n",
       "      <td>11055</td>\n",
       "      <td>14329200</td>\n",
       "      <td>Chords</td>\n",
       "      <td>novice</td>\n",
       "      <td>E</td>\n",
       "      <td>4th fret</td>\n",
       "      <td>E A D G B E</td>\n",
       "    </tr>\n",
       "    <tr>\n",
       "      <th>24</th>\n",
       "      <td>Taylor Swift</td>\n",
       "      <td>Love Story</td>\n",
       "      <td>5966</td>\n",
       "      <td>11073935</td>\n",
       "      <td>Chords</td>\n",
       "      <td>novice</td>\n",
       "      <td>C</td>\n",
       "      <td>2nd fret</td>\n",
       "      <td>E A D G B E</td>\n",
       "    </tr>\n",
       "    <tr>\n",
       "      <th>81</th>\n",
       "      <td>Lewis Capaldi</td>\n",
       "      <td>Someone You Loved</td>\n",
       "      <td>13055</td>\n",
       "      <td>6344820</td>\n",
       "      <td>Chords</td>\n",
       "      <td>novice</td>\n",
       "      <td>C#</td>\n",
       "      <td>1st fret</td>\n",
       "      <td>E A D G B E</td>\n",
       "    </tr>\n",
       "    <tr>\n",
       "      <th>82</th>\n",
       "      <td>Bon Iver</td>\n",
       "      <td>Skinny Love</td>\n",
       "      <td>2966</td>\n",
       "      <td>6338020</td>\n",
       "      <td>Chords</td>\n",
       "      <td>novice</td>\n",
       "      <td>Am</td>\n",
       "      <td>No Capo</td>\n",
       "      <td>E A D G B E</td>\n",
       "    </tr>\n",
       "  </tbody>\n",
       "</table>\n",
       "</div>"
      ],
      "text/plain": [
       "           Artist                  Song Name  Song Rating  Song Hits  \\\n",
       "6   Elvis Presley  Cant Help Falling In Love        19747   19857493   \n",
       "13  Justin Bieber              Love Yourself        11055   14329200   \n",
       "24   Taylor Swift                 Love Story         5966   11073935   \n",
       "81  Lewis Capaldi          Someone You Loved        13055    6344820   \n",
       "82       Bon Iver               Skinny Love          2966    6338020   \n",
       "\n",
       "   Page Type    Difficulty  Key       Capo        Tuning  \n",
       "6     Chords  intermediate    C   2nd fret   E A D G B E  \n",
       "13    Chords        novice    E   4th fret   E A D G B E  \n",
       "24    Chords        novice    C   2nd fret   E A D G B E  \n",
       "81    Chords        novice   C#   1st fret   E A D G B E  \n",
       "82    Chords        novice   Am    No Capo   E A D G B E  "
      ]
     },
     "execution_count": 16,
     "metadata": {},
     "output_type": "execute_result"
    }
   ],
   "source": [
    "data.head(5)"
   ]
  },
  {
   "cell_type": "code",
   "execution_count": 17,
   "metadata": {},
   "outputs": [
    {
     "name": "stdout",
     "output_type": "stream",
     "text": [
      "Songs containging the word 'love':  35\n"
     ]
    }
   ],
   "source": [
    "print(\"Songs containging the word 'love': \", len(data))"
   ]
  },
  {
   "cell_type": "code",
   "execution_count": null,
   "metadata": {},
   "outputs": [],
   "source": []
  }
 ],
 "metadata": {
  "kernelspec": {
   "display_name": "Python 3",
   "language": "python",
   "name": "python3"
  },
  "language_info": {
   "codemirror_mode": {
    "name": "ipython",
    "version": 3
   },
   "file_extension": ".py",
   "mimetype": "text/x-python",
   "name": "python",
   "nbconvert_exporter": "python",
   "pygments_lexer": "ipython3",
   "version": "3.10.0"
  },
  "orig_nbformat": 2
 },
 "nbformat": 4,
 "nbformat_minor": 2
}
